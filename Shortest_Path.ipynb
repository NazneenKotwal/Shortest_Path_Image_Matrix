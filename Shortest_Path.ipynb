{
 "cells": [
  {
   "cell_type": "markdown",
   "metadata": {},
   "source": [
    "## Code for shortest path between two pixel locations.\n",
    "\n",
    "## Given as input:\n",
    "1. Image Segment (Enter as a Matrix)\n",
    "2. Pixel Locations p and q.\n",
    "3. Predefined set V of intensity values.\n",
    "4. The Path Type (4-/8-/m-) \n",
    "\n"
   ]
  },
  {
   "cell_type": "code",
   "execution_count": 1,
   "metadata": {
    "collapsed": true
   },
   "outputs": [],
   "source": [
    "import itertools\n",
    "import numpy as np\n",
    "import heapq as hq\n",
    "import time"
   ]
  },
  {
   "cell_type": "code",
   "execution_count": 2,
   "metadata": {
    "collapsed": true
   },
   "outputs": [],
   "source": [
    "def to_index(x,y,img):\n",
    "    return x * img.shape[1] + y"
   ]
  },
  {
   "cell_type": "code",
   "execution_count": 3,
   "metadata": {
    "collapsed": true
   },
   "outputs": [],
   "source": [
    "def to_coordinates(index,img):\n",
    "    return index // img.shape[1], index % img.shape[1]"
   ]
  },
  {
   "cell_type": "code",
   "execution_count": 40,
   "metadata": {},
   "outputs": [],
   "source": [
    "def create_adjacency(type_con,my_list,img):\n",
    "    directions_8     = list(itertools.product([0, 1, -1], [0, 1, -1]))\n",
    "    adjacency = np.array(np.ones((36,36)) * np.inf)\n",
    "    if(type_con == \"8_conn\"):\n",
    "        direct = directions_8\n",
    "    else:\n",
    "        direct = [(i,j) for (i,j) in directions_8 if abs(i)+abs(j) != 2 ]             \n",
    "        direct_diag = [(i,j) for (i,j) in directions_8 if abs(i)+abs(j) == 2 ]\n",
    "    \n",
    "    for i in range(1, img.shape[0] - 1):\n",
    "        for j in range(1, img.shape[1] - 1):\n",
    "            if img[i,j] not in my_list:\n",
    "                continue\n",
    "            flag = 0\n",
    "            #print(i,j,img[i,j])\n",
    "            for y_diff, x_diff in direct:\n",
    "                #print(y_diff, x_diff,img[i + y_diff,j + x_diff])\n",
    "                if (img[i + y_diff, j + x_diff] in my_list) and \\\n",
    "                                                (abs(y_diff) + abs(x_diff) != 0):\n",
    "                    adjacency[to_index(i, j,img),to_index \\\n",
    "                                                (i + y_diff, j + x_diff,img)] = 1\n",
    "                    #print(i + y_diff, j + x_diff)\n",
    "            if(type_con == \"m_conn\"):\n",
    "                for y_diff, x_diff in direct_diag:\n",
    "                   # print(y_diff, x_diff,img[i + y_diff,j + x_diff])\n",
    "                    if (img[i + y_diff, j + x_diff] in my_list) and \\\n",
    "                                    (img[i,j+x_diff] not in my_list) and \\\n",
    "                                            (img[i+y_diff,j] not in my_list) and \\\n",
    "                                                      (abs(y_diff) + abs(x_diff) != 0):\n",
    "                        adjacency[to_index(i, j,img),to_index\\\n",
    "                                                      (i + y_diff, j + x_diff,img)] = 1\n",
    "                        #print(i + y_diff, j + x_diff)\n",
    "    return adjacency"
   ]
  },
  {
   "cell_type": "code",
   "execution_count": 5,
   "metadata": {
    "collapsed": true
   },
   "outputs": [],
   "source": [
    "def dijkstra_code(G, source,target):\n",
    "    inf = float('Inf')\n",
    "    n = len(G)\n",
    "    prev = [[] for i in range(n)]\n",
    "    Q = [(0, source)]\n",
    "    d = [inf for i in range(n)]\n",
    "    d[source]= 0\n",
    "    while len(Q)!=0:\n",
    "        (cost, u) = hq.heappop(Q)\n",
    "        #print(\"POP\",cost,u,Q)\n",
    "        for v in range(n):\n",
    "            if d[v]  > d[u] + G[u][v]:\n",
    "                d[v] = d[u] + G[u][v]\n",
    "                hq.heappush(Q, (d[v], v))\n",
    "                prev[v].append(u) \n",
    "                #print(\"PUSH\",v,u,Q)\n",
    "    return d[target],prev"
   ]
  },
  {
   "cell_type": "code",
   "execution_count": 6,
   "metadata": {
    "collapsed": true
   },
   "outputs": [],
   "source": [
    "def print_path(prev,target,source,img):\n",
    "    path = []\n",
    "    path.append((to_coordinates(target,img)))\n",
    "    a = prev[target][0]\n",
    "    while a != source:\n",
    "        path.append((to_coordinates(a,img)))\n",
    "        a = prev[a][0]\n",
    "    path.append((to_coordinates(source,img)))\n",
    "    path = path[::-1]\n",
    "    print(\"Path Found\",end = \" \")\n",
    "    for p in path:\n",
    "        print(\"-->\",p,end = \" \")\n",
    "    print(\"\\n\")"
   ]
  },
  {
   "cell_type": "code",
   "execution_count": 7,
   "metadata": {
    "collapsed": true
   },
   "outputs": [],
   "source": [
    "def pad_with(vector, pad_width, iaxis, kwargs):\n",
    "    pad_value = kwargs.get('padder', 10)\n",
    "    vector[:pad_width[0]] = pad_value\n",
    "    vector[-pad_width[1]:] = pad_value\n",
    "    return vector"
   ]
  },
  {
   "cell_type": "code",
   "execution_count": 41,
   "metadata": {
    "collapsed": true
   },
   "outputs": [],
   "source": [
    "def user_input():\n",
    "    try: \n",
    "        n = int(input(\"Enter the number of rows in a matrix: \"))\n",
    "        print(\"Enter elements row-wise\")\n",
    "        img_original = [[int(i) for i in input().split()] for i in range(n)]\n",
    "        img_original = np.array(img_original)\n",
    "        my_list      = [int(i) for i in input('Enter The Predefined List eg. 0 1:')\\\n",
    "                                                                            .split()] \n",
    "        p_coord      = [int(i) for i in input('Enter The Source Coordinates \\\n",
    "                                        (Note: rows/cols start with 1 not 0) eg. 4 1 :').split()] \n",
    "        q_coord      = [int(i) for i in input('Enter The Target Coordinates \\\n",
    "                                        (Note: rows/cols start with 1 not 0) eg. 1 4 :').split()] \n",
    "        #type_con      = input('Enter The Path Type (4_conn/8_conn/m_conn):')\n",
    "    except:\n",
    "        print(\"Incorrect Values Inputed\")\n",
    "    return img_original, my_list, p_coord, q_coord"
   ]
  },
  {
   "cell_type": "code",
   "execution_count": 17,
   "metadata": {
    "collapsed": true
   },
   "outputs": [],
   "source": [
    "def compute_result(img_original, my_list, p_coord, q_coord):\n",
    "    start_time = time.time()\n",
    "    img = np.pad(np.array(img_original), 1, pad_with,padder = 999)\n",
    "    source = to_index(p_coord[0], p_coord[1],img)\n",
    "    target = to_index(q_coord[0], q_coord[1],img)\n",
    "    adjacency  = create_adjacency(type_con,my_list,img)\n",
    "    pathlength,prev = dijkstra_code(adjacency,source,target)\n",
    "    if (pathlength != np.inf):\n",
    "        print(\"Path length found to be: %d\" %(pathlength))\n",
    "        print_path(prev,target,source,img)\n",
    "    else:\n",
    "        print(\"No Path Found\")\n",
    "    print(\"--- Runtime for Code: %s seconds ---\" % (time.time() - start_time))"
   ]
  },
  {
   "cell_type": "markdown",
   "metadata": {},
   "source": [
    "## Problem 2 - a - i ( 4 - Path )"
   ]
  },
  {
   "cell_type": "code",
   "execution_count": 18,
   "metadata": {},
   "outputs": [
    {
     "name": "stdout",
     "output_type": "stream",
     "text": [
      "Enter the number of rows in a matrix: 4\n",
      "Enter elements row-wise\n",
      "3 1 2 1\n",
      "2 2 0 2\n",
      "1 2 1 1\n",
      "1 0 1 2\n",
      "Enter The Predefined List eg. 0 1:0 1\n",
      "Enter The Source Coordinates (Note: rows/cols start with 1 not 0) eg. 4 1 :4 1\n",
      "Enter The Target Coordinates (Note: rows/cols start with 1 not 0) eg. 1 4 :1 4\n",
      "Enter The Path Type (4_conn/8_conn/m_conn):4_conn\n",
      "No Path Found\n",
      "--- Runtime for Code: 0.001989126205444336 seconds ---\n"
     ]
    }
   ],
   "source": [
    "img_original, my_list, p_coord, q_coord = user_input()\n",
    "try:\n",
    "    type_con      = input('Enter The Path Type (4_conn/8_conn/m_conn):')\n",
    "except:\n",
    "    print(\"Incorrect Values Inputed\")\n",
    "compute_result(img_original, my_list, p_coord, q_coord)"
   ]
  },
  {
   "cell_type": "markdown",
   "metadata": {},
   "source": [
    "## Problem 2 - a - ii  ( 8 - Path )"
   ]
  },
  {
   "cell_type": "code",
   "execution_count": 19,
   "metadata": {},
   "outputs": [
    {
     "name": "stdout",
     "output_type": "stream",
     "text": [
      "Enter The Path Type (4_conn/8_conn/m_conn):8_conn\n",
      "Path length found to be: 4\n",
      "Path Found --> (4, 1) --> (4, 2) --> (3, 3) --> (2, 3) --> (1, 4) \n",
      "\n",
      "--- Runtime for Code: 0.0009963512420654297 seconds ---\n"
     ]
    }
   ],
   "source": [
    "try:\n",
    "    type_con      = input('Enter The Path Type (4_conn/8_conn/m_conn):')\n",
    "except:\n",
    "    print(\"Incorrect Values Inputed\")\n",
    "compute_result(img_original, my_list, p_coord, q_coord)"
   ]
  },
  {
   "cell_type": "markdown",
   "metadata": {},
   "source": [
    "## Problem 2 - a - iii  ( m - Path )"
   ]
  },
  {
   "cell_type": "code",
   "execution_count": 20,
   "metadata": {},
   "outputs": [
    {
     "name": "stdout",
     "output_type": "stream",
     "text": [
      "Enter The Path Type (4_conn/8_conn/m_conn):m_conn\n",
      "Path length found to be: 5\n",
      "Path Found --> (4, 1) --> (4, 2) --> (4, 3) --> (3, 3) --> (2, 3) --> (1, 4) \n",
      "\n",
      "--- Runtime for Code: 0.001986980438232422 seconds ---\n"
     ]
    }
   ],
   "source": [
    "try:\n",
    "    type_con      = input('Enter The Path Type (4_conn/8_conn/m_conn):')\n",
    "except:\n",
    "    print(\"Incorrect Values Inputed\")\n",
    "compute_result(img_original, my_list, p_coord, q_coord)"
   ]
  },
  {
   "cell_type": "markdown",
   "metadata": {},
   "source": [
    "## Problem 2 - b - i ( 4 - Path )"
   ]
  },
  {
   "cell_type": "code",
   "execution_count": 21,
   "metadata": {},
   "outputs": [
    {
     "name": "stdout",
     "output_type": "stream",
     "text": [
      "Enter the number of rows in a matrix: 4\n",
      "Enter elements row-wise\n",
      "3 1 2 1\n",
      "2  2 0 2\n",
      "1 2 1 1 \n",
      "1 0 1 2\n",
      "Enter The Predefined List eg. 0 1:1 2 \n",
      "Enter The Source Coordinates (Note: rows/cols start with 1 not 0) eg. 4 1 :4 1\n",
      "Enter The Target Coordinates (Note: rows/cols start with 1 not 0) eg. 1 4 :1 4\n",
      "Enter The Path Type (4_conn/8_conn/m_conn):4_conn\n",
      "Path length found to be: 6\n",
      "Path Found --> (4, 1) --> (3, 1) --> (2, 1) --> (2, 2) --> (1, 2) --> (1, 3) --> (1, 4) \n",
      "\n",
      "--- Runtime for Code: 0.0009965896606445312 seconds ---\n"
     ]
    }
   ],
   "source": [
    "img_original, my_list, p_coord, q_coord = user_input()\n",
    "try:\n",
    "    type_con      = input('Enter The Path Type (4_conn/8_conn/m_conn):')\n",
    "except:\n",
    "    print(\"Incorrect Values Inputed\")\n",
    "compute_result(img_original, my_list, p_coord, q_coord)"
   ]
  },
  {
   "cell_type": "markdown",
   "metadata": {},
   "source": [
    "## Problem 2 - b - ii ( 8 - Path )"
   ]
  },
  {
   "cell_type": "code",
   "execution_count": 22,
   "metadata": {},
   "outputs": [
    {
     "name": "stdout",
     "output_type": "stream",
     "text": [
      "Enter The Path Type (4_conn/8_conn/m_conn):8_conn\n",
      "Path length found to be: 4\n",
      "Path Found --> (4, 1) --> (3, 1) --> (2, 2) --> (1, 3) --> (1, 4) \n",
      "\n",
      "--- Runtime for Code: 0.0009849071502685547 seconds ---\n"
     ]
    }
   ],
   "source": [
    "try:\n",
    "    type_con      = input('Enter The Path Type (4_conn/8_conn/m_conn):')\n",
    "except:\n",
    "    print(\"Incorrect Values Inputed\")\n",
    "compute_result(img_original, my_list, p_coord, q_coord)"
   ]
  },
  {
   "cell_type": "markdown",
   "metadata": {},
   "source": [
    "## Problem 2 - b - iii ( m - Path )"
   ]
  },
  {
   "cell_type": "code",
   "execution_count": 23,
   "metadata": {},
   "outputs": [
    {
     "name": "stdout",
     "output_type": "stream",
     "text": [
      "Enter The Path Type (4_conn/8_conn/m_conn):m_conn\n",
      "Path length found to be: 6\n",
      "Path Found --> (4, 1) --> (3, 1) --> (2, 1) --> (2, 2) --> (1, 2) --> (1, 3) --> (1, 4) \n",
      "\n",
      "--- Runtime for Code: 0.00099945068359375 seconds ---\n"
     ]
    }
   ],
   "source": [
    "try:\n",
    "    type_con      = input('Enter The Path Type (4_conn/8_conn/m_conn):')\n",
    "except:\n",
    "    print(\"Incorrect Values Inputed\")\n",
    "compute_result(img_original, my_list, p_coord, q_coord)"
   ]
  },
  {
   "cell_type": "markdown",
   "metadata": {},
   "source": [
    "## Additional Example 1"
   ]
  },
  {
   "cell_type": "code",
   "execution_count": 27,
   "metadata": {},
   "outputs": [
    {
     "name": "stdout",
     "output_type": "stream",
     "text": [
      "Enter the number of rows in a matrix: 3\n",
      "Enter elements row-wise\n",
      "0 1 0\n",
      "0 1 0\n",
      "0 0 1\n",
      "Enter The Predefined List eg. 0 1:1\n",
      "Enter The Source Coordinates (Note: rows/cols start with 1 not 0) eg. 4 1 :3 3\n",
      "Enter The Target Coordinates (Note: rows/cols start with 1 not 0) eg. 1 4 :1 2\n",
      "Enter The Path Type (4_conn/8_conn/m_conn):4_conn\n",
      "No Path Found\n",
      "--- Runtime for Code: 0.0009992122650146484 seconds ---\n"
     ]
    }
   ],
   "source": [
    "img_original, my_list, p_coord, q_coord = user_input()\n",
    "try:\n",
    "    type_con      = input('Enter The Path Type (4_conn/8_conn/m_conn):')\n",
    "except:\n",
    "    print(\"Incorrect Values Inputed\")\n",
    "compute_result(img_original, my_list, p_coord, q_coord)"
   ]
  },
  {
   "cell_type": "code",
   "execution_count": 28,
   "metadata": {},
   "outputs": [
    {
     "name": "stdout",
     "output_type": "stream",
     "text": [
      "Enter The Path Type (4_conn/8_conn/m_conn):8_conn\n",
      "Path length found to be: 2\n",
      "Path Found --> (3, 3) --> (2, 2) --> (1, 2) \n",
      "\n",
      "--- Runtime for Code: 0.000995635986328125 seconds ---\n"
     ]
    }
   ],
   "source": [
    "try:\n",
    "    type_con      = input('Enter The Path Type (4_conn/8_conn/m_conn):')\n",
    "except:\n",
    "    print(\"Incorrect Values Inputed\")\n",
    "compute_result(img_original, my_list, p_coord, q_coord)"
   ]
  },
  {
   "cell_type": "code",
   "execution_count": 29,
   "metadata": {},
   "outputs": [
    {
     "name": "stdout",
     "output_type": "stream",
     "text": [
      "Enter The Path Type (4_conn/8_conn/m_conn):m_conn\n",
      "Path length found to be: 2\n",
      "Path Found --> (3, 3) --> (2, 2) --> (1, 2) \n",
      "\n",
      "--- Runtime for Code: 0.0009961128234863281 seconds ---\n"
     ]
    }
   ],
   "source": [
    "try:\n",
    "    type_con      = input('Enter The Path Type (4_conn/8_conn/m_conn):')\n",
    "except:\n",
    "    print(\"Incorrect Values Inputed\")\n",
    "compute_result(img_original, my_list, p_coord, q_coord)"
   ]
  },
  {
   "cell_type": "markdown",
   "metadata": {},
   "source": [
    "## Additional Example 2"
   ]
  },
  {
   "cell_type": "code",
   "execution_count": 30,
   "metadata": {},
   "outputs": [
    {
     "name": "stdout",
     "output_type": "stream",
     "text": [
      "Enter the number of rows in a matrix: 4\n",
      "Enter elements row-wise\n",
      "0 1 1 0\n",
      "1 0 2 0\n",
      "1 2 0 1\n",
      "0 0 1 0\n",
      "Enter The Predefined List eg. 0 1:1 2\n",
      "Enter The Source Coordinates (Note: rows/cols start with 1 not 0) eg. 4 1 :4 3\n",
      "Enter The Target Coordinates (Note: rows/cols start with 1 not 0) eg. 1 4 :1 2\n",
      "Enter The Path Type (4_conn/8_conn/m_conn):4_conn\n",
      "No Path Found\n",
      "--- Runtime for Code: 0.000997304916381836 seconds ---\n"
     ]
    }
   ],
   "source": [
    "img_original, my_list, p_coord, q_coord = user_input()\n",
    "try:\n",
    "    type_con      = input('Enter The Path Type (4_conn/8_conn/m_conn):')\n",
    "except:\n",
    "    print(\"Incorrect Values Inputed\")\n",
    "compute_result(img_original, my_list, p_coord, q_coord)"
   ]
  },
  {
   "cell_type": "code",
   "execution_count": 31,
   "metadata": {},
   "outputs": [
    {
     "name": "stdout",
     "output_type": "stream",
     "text": [
      "Enter The Path Type (4_conn/8_conn/m_conn):8_conn\n",
      "Path length found to be: 3\n",
      "Path Found --> (4, 3) --> (3, 2) --> (2, 1) --> (1, 2) \n",
      "\n",
      "--- Runtime for Code: 0.0009992122650146484 seconds ---\n"
     ]
    }
   ],
   "source": [
    "try:\n",
    "    type_con      = input('Enter The Path Type (4_conn/8_conn/m_conn):')\n",
    "except:\n",
    "    print(\"Incorrect Values Inputed\")\n",
    "compute_result(img_original, my_list, p_coord, q_coord)"
   ]
  },
  {
   "cell_type": "code",
   "execution_count": 32,
   "metadata": {},
   "outputs": [
    {
     "name": "stdout",
     "output_type": "stream",
     "text": [
      "Enter The Path Type (4_conn/8_conn/m_conn):m_conn\n",
      "Path length found to be: 4\n",
      "Path Found --> (4, 3) --> (3, 2) --> (2, 3) --> (1, 3) --> (1, 2) \n",
      "\n",
      "--- Runtime for Code: 0.0019910335540771484 seconds ---\n"
     ]
    }
   ],
   "source": [
    "try:\n",
    "    type_con      = input('Enter The Path Type (4_conn/8_conn/m_conn):')\n",
    "except:\n",
    "    print(\"Incorrect Values Inputed\")\n",
    "compute_result(img_original, my_list, p_coord, q_coord)"
   ]
  },
  {
   "cell_type": "markdown",
   "metadata": {},
   "source": [
    "## Additional Example 3"
   ]
  },
  {
   "cell_type": "code",
   "execution_count": 33,
   "metadata": {},
   "outputs": [
    {
     "name": "stdout",
     "output_type": "stream",
     "text": [
      "Enter the number of rows in a matrix: 3\n",
      "Enter elements row-wise\n",
      "1 1 0\n",
      "0 1 1\n",
      "1 0 1\n",
      "Enter The Predefined List eg. 0 1:1\n",
      "Enter The Source Coordinates (Note: rows/cols start with 1 not 0) eg. 4 1 :3 3\n",
      "Enter The Target Coordinates (Note: rows/cols start with 1 not 0) eg. 1 4 :1 1\n",
      "Enter The Path Type (4_conn/8_conn/m_conn):4_conn\n",
      "Path length found to be: 4\n",
      "Path Found --> (3, 3) --> (2, 3) --> (2, 2) --> (1, 2) --> (1, 1) \n",
      "\n",
      "--- Runtime for Code: 0.0009963512420654297 seconds ---\n"
     ]
    }
   ],
   "source": [
    "img_original, my_list, p_coord, q_coord = user_input()\n",
    "try:\n",
    "    type_con      = input('Enter The Path Type (4_conn/8_conn/m_conn):')\n",
    "except:\n",
    "    print(\"Incorrect Values Inputed\")\n",
    "compute_result(img_original, my_list, p_coord, q_coord)"
   ]
  },
  {
   "cell_type": "code",
   "execution_count": 34,
   "metadata": {},
   "outputs": [
    {
     "name": "stdout",
     "output_type": "stream",
     "text": [
      "Enter The Path Type (4_conn/8_conn/m_conn):8_conn\n",
      "Path length found to be: 2\n",
      "Path Found --> (3, 3) --> (2, 2) --> (1, 1) \n",
      "\n",
      "--- Runtime for Code: 0.0009968280792236328 seconds ---\n"
     ]
    }
   ],
   "source": [
    "try:\n",
    "    type_con      = input('Enter The Path Type (4_conn/8_conn/m_conn):')\n",
    "except:\n",
    "    print(\"Incorrect Values Inputed\")\n",
    "compute_result(img_original, my_list, p_coord, q_coord)"
   ]
  },
  {
   "cell_type": "code",
   "execution_count": 35,
   "metadata": {},
   "outputs": [
    {
     "name": "stdout",
     "output_type": "stream",
     "text": [
      "Enter The Path Type (4_conn/8_conn/m_conn):m_conn\n",
      "Path length found to be: 4\n",
      "Path Found --> (3, 3) --> (2, 3) --> (2, 2) --> (1, 2) --> (1, 1) \n",
      "\n",
      "--- Runtime for Code: 0.001991748809814453 seconds ---\n"
     ]
    }
   ],
   "source": [
    "try:\n",
    "    type_con      = input('Enter The Path Type (4_conn/8_conn/m_conn):')\n",
    "except:\n",
    "    print(\"Incorrect Values Inputed\")\n",
    "compute_result(img_original, my_list, p_coord, q_coord)"
   ]
  }
 ],
 "metadata": {
  "kernelspec": {
   "display_name": "Python [conda env:myWindowsCV1]",
   "language": "python",
   "name": "conda-env-myWindowsCV1-py"
  },
  "language_info": {
   "codemirror_mode": {
    "name": "ipython",
    "version": 3
   },
   "file_extension": ".py",
   "mimetype": "text/x-python",
   "name": "python",
   "nbconvert_exporter": "python",
   "pygments_lexer": "ipython3",
   "version": "3.5.4"
  }
 },
 "nbformat": 4,
 "nbformat_minor": 2
}
